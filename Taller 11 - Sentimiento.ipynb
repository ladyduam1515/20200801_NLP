{
 "cells": [
  {
   "cell_type": "markdown",
   "metadata": {},
   "source": [
    "<img src='https://encrypted-tbn0.gstatic.com/images?q=tbn%3AANd9GcQ-VfNtOyJbsaxu43Kztf_cv1mgBG6ZIQZEVw&usqp=CAU'>\n",
    "\n",
    "# Procesamiento de Lenguage Natural\n",
    "\n",
    "## Taller #11: Análisis de sentimiento\n",
    "`Fecha de entrega: Noviembre 21, 2020 (Antes del inicio de la próxima clase).`\n",
    "\n",
    "`Modo de entrega: Subir link de GitHub al aula virtual.`"
   ]
  },
  {
   "cell_type": "markdown",
   "metadata": {},
   "source": [
    "###  `[25 pts]` Punto 1: Hacer análisis de sentimiento de los datos del anterior taller\n",
    "- Columna con el puntaje numérico del sentimiento\n",
    "- Pueden usar cualquiera de las librerias vistas en clase"
   ]
  },
  {
   "cell_type": "code",
   "execution_count": 4,
   "metadata": {},
   "outputs": [
    {
     "data": {
      "text/html": [
       "<div>\n",
       "<style scoped>\n",
       "    .dataframe tbody tr th:only-of-type {\n",
       "        vertical-align: middle;\n",
       "    }\n",
       "\n",
       "    .dataframe tbody tr th {\n",
       "        vertical-align: top;\n",
       "    }\n",
       "\n",
       "    .dataframe thead th {\n",
       "        text-align: right;\n",
       "    }\n",
       "</style>\n",
       "<table border=\"1\" class=\"dataframe\">\n",
       "  <thead>\n",
       "    <tr style=\"text-align: right;\">\n",
       "      <th></th>\n",
       "      <th>tweet</th>\n",
       "      <th>date</th>\n",
       "      <th>city</th>\n",
       "      <th>user_location</th>\n",
       "      <th>id</th>\n",
       "      <th>link</th>\n",
       "    </tr>\n",
       "  </thead>\n",
       "  <tbody>\n",
       "    <tr>\n",
       "      <th>284</th>\n",
       "      <td>@Ricardo030602 @Acosta497 @PaolaGuerreroI_ Y d...</td>\n",
       "      <td>2020-11-19 23:39:18</td>\n",
       "      <td>Cali</td>\n",
       "      <td>Colombia</td>\n",
       "      <td>1329569971857461249</td>\n",
       "      <td>https://twitter.com/i/web/status/1329569971857...</td>\n",
       "    </tr>\n",
       "    <tr>\n",
       "      <th>460</th>\n",
       "      <td>Ya pongan navidad y todo lo que quieran !! Ya ...</td>\n",
       "      <td>2020-11-18 15:03:06</td>\n",
       "      <td>Bucaramanga</td>\n",
       "      <td>Bucaramanga, Colombia</td>\n",
       "      <td>1329077677345554432</td>\n",
       "      <td>https://twitter.com/i/web/status/1329077677345...</td>\n",
       "    </tr>\n",
       "    <tr>\n",
       "      <th>1425</th>\n",
       "      <td>¿Cómo podría ser la Navidad? \\n\\nSanidad prepa...</td>\n",
       "      <td>2020-11-19 09:39:03</td>\n",
       "      <td>Armenia</td>\n",
       "      <td>Andalucía</td>\n",
       "      <td>1329358518185562116</td>\n",
       "      <td>https://twitter.com/i/web/status/1329358518185...</td>\n",
       "    </tr>\n",
       "    <tr>\n",
       "      <th>937</th>\n",
       "      <td>@sergioheld @anfelo23 @QuinteroCalle Sabe por ...</td>\n",
       "      <td>2020-11-19 15:27:41</td>\n",
       "      <td>Ibagué</td>\n",
       "      <td>Pereira!</td>\n",
       "      <td>1329446253709717504</td>\n",
       "      <td>https://twitter.com/i/web/status/1329446253709...</td>\n",
       "    </tr>\n",
       "    <tr>\n",
       "      <th>527</th>\n",
       "      <td>Nadie se vea Navidad en Africa van a llorar😍😭🐘❤️</td>\n",
       "      <td>2020-11-20 01:46:43</td>\n",
       "      <td>Cartagena</td>\n",
       "      <td>Colombia</td>\n",
       "      <td>1329602037521272833</td>\n",
       "      <td>https://twitter.com/i/web/status/1329602037521...</td>\n",
       "    </tr>\n",
       "  </tbody>\n",
       "</table>\n",
       "</div>"
      ],
      "text/plain": [
       "                                                  tweet                 date  \\\n",
       "284   @Ricardo030602 @Acosta497 @PaolaGuerreroI_ Y d...  2020-11-19 23:39:18   \n",
       "460   Ya pongan navidad y todo lo que quieran !! Ya ...  2020-11-18 15:03:06   \n",
       "1425  ¿Cómo podría ser la Navidad? \\n\\nSanidad prepa...  2020-11-19 09:39:03   \n",
       "937   @sergioheld @anfelo23 @QuinteroCalle Sabe por ...  2020-11-19 15:27:41   \n",
       "527    Nadie se vea Navidad en Africa van a llorar😍😭🐘❤️  2020-11-20 01:46:43   \n",
       "\n",
       "             city          user_location                   id  \\\n",
       "284          Cali               Colombia  1329569971857461249   \n",
       "460   Bucaramanga  Bucaramanga, Colombia  1329077677345554432   \n",
       "1425      Armenia              Andalucía  1329358518185562116   \n",
       "937        Ibagué               Pereira!  1329446253709717504   \n",
       "527     Cartagena               Colombia  1329602037521272833   \n",
       "\n",
       "                                                   link  \n",
       "284   https://twitter.com/i/web/status/1329569971857...  \n",
       "460   https://twitter.com/i/web/status/1329077677345...  \n",
       "1425  https://twitter.com/i/web/status/1329358518185...  \n",
       "937   https://twitter.com/i/web/status/1329446253709...  \n",
       "527   https://twitter.com/i/web/status/1329602037521...  "
      ]
     },
     "execution_count": 4,
     "metadata": {},
     "output_type": "execute_result"
    }
   ],
   "source": [
    "from googletrans import Translator\n",
    "import pandas as pd\n",
    "\n",
    "data = pd.read_csv(\"C:/Users/PC/OneDrive - Grupo Procaps/Documentos/Konrad Lorenz/Semetre_II/NLP/20201107/Navidad.csv\")\n",
    "data = data.sample(1000)\n",
    "data.head()\n"
   ]
  },
  {
   "cell_type": "code",
   "execution_count": 9,
   "metadata": {},
   "outputs": [
    {
     "data": {
      "text/html": [
       "<div>\n",
       "<style scoped>\n",
       "    .dataframe tbody tr th:only-of-type {\n",
       "        vertical-align: middle;\n",
       "    }\n",
       "\n",
       "    .dataframe tbody tr th {\n",
       "        vertical-align: top;\n",
       "    }\n",
       "\n",
       "    .dataframe thead th {\n",
       "        text-align: right;\n",
       "    }\n",
       "</style>\n",
       "<table border=\"1\" class=\"dataframe\">\n",
       "  <thead>\n",
       "    <tr style=\"text-align: right;\">\n",
       "      <th></th>\n",
       "      <th>tweet</th>\n",
       "      <th>date</th>\n",
       "      <th>city</th>\n",
       "      <th>user_location</th>\n",
       "      <th>id</th>\n",
       "      <th>link</th>\n",
       "      <th>ing</th>\n",
       "    </tr>\n",
       "  </thead>\n",
       "  <tbody>\n",
       "    <tr>\n",
       "      <th>284</th>\n",
       "      <td>@Ricardo030602 @Acosta497 @PaolaGuerreroI_ Y d...</td>\n",
       "      <td>2020-11-19 23:39:18</td>\n",
       "      <td>Cali</td>\n",
       "      <td>Colombia</td>\n",
       "      <td>1329569971857461249</td>\n",
       "      <td>https://twitter.com/i/web/status/1329569971857...</td>\n",
       "      <td>Translated(src=es, dest=en, text=@ Ricardo0306...</td>\n",
       "    </tr>\n",
       "    <tr>\n",
       "      <th>460</th>\n",
       "      <td>Ya pongan navidad y todo lo que quieran !! Ya ...</td>\n",
       "      <td>2020-11-18 15:03:06</td>\n",
       "      <td>Bucaramanga</td>\n",
       "      <td>Bucaramanga, Colombia</td>\n",
       "      <td>1329077677345554432</td>\n",
       "      <td>https://twitter.com/i/web/status/1329077677345...</td>\n",
       "      <td>Translated(src=es, dest=en, text=Put Christmas...</td>\n",
       "    </tr>\n",
       "    <tr>\n",
       "      <th>1425</th>\n",
       "      <td>¿Cómo podría ser la Navidad? \\n\\nSanidad prepa...</td>\n",
       "      <td>2020-11-19 09:39:03</td>\n",
       "      <td>Armenia</td>\n",
       "      <td>Andalucía</td>\n",
       "      <td>1329358518185562116</td>\n",
       "      <td>https://twitter.com/i/web/status/1329358518185...</td>\n",
       "      <td>Translated(src=es, dest=en, text=How could Chr...</td>\n",
       "    </tr>\n",
       "    <tr>\n",
       "      <th>937</th>\n",
       "      <td>@sergioheld @anfelo23 @QuinteroCalle Sabe por ...</td>\n",
       "      <td>2020-11-19 15:27:41</td>\n",
       "      <td>Ibagué</td>\n",
       "      <td>Pereira!</td>\n",
       "      <td>1329446253709717504</td>\n",
       "      <td>https://twitter.com/i/web/status/1329446253709...</td>\n",
       "      <td>Translated(src=es, dest=en, text=@sergioheld @...</td>\n",
       "    </tr>\n",
       "    <tr>\n",
       "      <th>527</th>\n",
       "      <td>Nadie se vea Navidad en Africa van a llorar😍😭🐘❤️</td>\n",
       "      <td>2020-11-20 01:46:43</td>\n",
       "      <td>Cartagena</td>\n",
       "      <td>Colombia</td>\n",
       "      <td>1329602037521272833</td>\n",
       "      <td>https://twitter.com/i/web/status/1329602037521...</td>\n",
       "      <td>Translated(src=es, dest=en, text=Nobody sees C...</td>\n",
       "    </tr>\n",
       "  </tbody>\n",
       "</table>\n",
       "</div>"
      ],
      "text/plain": [
       "                                                  tweet                 date  \\\n",
       "284   @Ricardo030602 @Acosta497 @PaolaGuerreroI_ Y d...  2020-11-19 23:39:18   \n",
       "460   Ya pongan navidad y todo lo que quieran !! Ya ...  2020-11-18 15:03:06   \n",
       "1425  ¿Cómo podría ser la Navidad? \\n\\nSanidad prepa...  2020-11-19 09:39:03   \n",
       "937   @sergioheld @anfelo23 @QuinteroCalle Sabe por ...  2020-11-19 15:27:41   \n",
       "527    Nadie se vea Navidad en Africa van a llorar😍😭🐘❤️  2020-11-20 01:46:43   \n",
       "\n",
       "             city          user_location                   id  \\\n",
       "284          Cali               Colombia  1329569971857461249   \n",
       "460   Bucaramanga  Bucaramanga, Colombia  1329077677345554432   \n",
       "1425      Armenia              Andalucía  1329358518185562116   \n",
       "937        Ibagué               Pereira!  1329446253709717504   \n",
       "527     Cartagena               Colombia  1329602037521272833   \n",
       "\n",
       "                                                   link  \\\n",
       "284   https://twitter.com/i/web/status/1329569971857...   \n",
       "460   https://twitter.com/i/web/status/1329077677345...   \n",
       "1425  https://twitter.com/i/web/status/1329358518185...   \n",
       "937   https://twitter.com/i/web/status/1329446253709...   \n",
       "527   https://twitter.com/i/web/status/1329602037521...   \n",
       "\n",
       "                                                    ing  \n",
       "284   Translated(src=es, dest=en, text=@ Ricardo0306...  \n",
       "460   Translated(src=es, dest=en, text=Put Christmas...  \n",
       "1425  Translated(src=es, dest=en, text=How could Chr...  \n",
       "937   Translated(src=es, dest=en, text=@sergioheld @...  \n",
       "527   Translated(src=es, dest=en, text=Nobody sees C...  "
      ]
     },
     "execution_count": 9,
     "metadata": {},
     "output_type": "execute_result"
    }
   ],
   "source": [
    "translator = Translator()\n",
    "data['ing'] = data['tweet'].apply(lambda valor: translator.translate(valor, src='es', dest='en'))\n",
    "data.head()"
   ]
  },
  {
   "cell_type": "code",
   "execution_count": 10,
   "metadata": {},
   "outputs": [
    {
     "data": {
      "text/html": [
       "<div>\n",
       "<style scoped>\n",
       "    .dataframe tbody tr th:only-of-type {\n",
       "        vertical-align: middle;\n",
       "    }\n",
       "\n",
       "    .dataframe tbody tr th {\n",
       "        vertical-align: top;\n",
       "    }\n",
       "\n",
       "    .dataframe thead th {\n",
       "        text-align: right;\n",
       "    }\n",
       "</style>\n",
       "<table border=\"1\" class=\"dataframe\">\n",
       "  <thead>\n",
       "    <tr style=\"text-align: right;\">\n",
       "      <th></th>\n",
       "      <th>tweet</th>\n",
       "      <th>date</th>\n",
       "      <th>city</th>\n",
       "      <th>user_location</th>\n",
       "      <th>id</th>\n",
       "      <th>link</th>\n",
       "      <th>ing</th>\n",
       "      <th>ingles</th>\n",
       "    </tr>\n",
       "  </thead>\n",
       "  <tbody>\n",
       "    <tr>\n",
       "      <th>284</th>\n",
       "      <td>@Ricardo030602 @Acosta497 @PaolaGuerreroI_ Y d...</td>\n",
       "      <td>2020-11-19 23:39:18</td>\n",
       "      <td>Cali</td>\n",
       "      <td>Colombia</td>\n",
       "      <td>1329569971857461249</td>\n",
       "      <td>https://twitter.com/i/web/status/1329569971857...</td>\n",
       "      <td>Translated(src=es, dest=en, text=@ Ricardo0306...</td>\n",
       "      <td>@ Ricardo030602 @ Acosta497 @PaolaGuerreroI_ A...</td>\n",
       "    </tr>\n",
       "    <tr>\n",
       "      <th>460</th>\n",
       "      <td>Ya pongan navidad y todo lo que quieran !! Ya ...</td>\n",
       "      <td>2020-11-18 15:03:06</td>\n",
       "      <td>Bucaramanga</td>\n",
       "      <td>Bucaramanga, Colombia</td>\n",
       "      <td>1329077677345554432</td>\n",
       "      <td>https://twitter.com/i/web/status/1329077677345...</td>\n",
       "      <td>Translated(src=es, dest=en, text=Put Christmas...</td>\n",
       "      <td>Put Christmas and everything you want! I alrea...</td>\n",
       "    </tr>\n",
       "    <tr>\n",
       "      <th>1425</th>\n",
       "      <td>¿Cómo podría ser la Navidad? \\n\\nSanidad prepa...</td>\n",
       "      <td>2020-11-19 09:39:03</td>\n",
       "      <td>Armenia</td>\n",
       "      <td>Andalucía</td>\n",
       "      <td>1329358518185562116</td>\n",
       "      <td>https://twitter.com/i/web/status/1329358518185...</td>\n",
       "      <td>Translated(src=es, dest=en, text=How could Chr...</td>\n",
       "      <td>How could Christmas be?\\n\\nHealth prepares a s...</td>\n",
       "    </tr>\n",
       "    <tr>\n",
       "      <th>937</th>\n",
       "      <td>@sergioheld @anfelo23 @QuinteroCalle Sabe por ...</td>\n",
       "      <td>2020-11-19 15:27:41</td>\n",
       "      <td>Ibagué</td>\n",
       "      <td>Pereira!</td>\n",
       "      <td>1329446253709717504</td>\n",
       "      <td>https://twitter.com/i/web/status/1329446253709...</td>\n",
       "      <td>Translated(src=es, dest=en, text=@sergioheld @...</td>\n",
       "      <td>@sergioheld @ anfelo23 @QuinteroCalle Do you k...</td>\n",
       "    </tr>\n",
       "    <tr>\n",
       "      <th>527</th>\n",
       "      <td>Nadie se vea Navidad en Africa van a llorar😍😭🐘❤️</td>\n",
       "      <td>2020-11-20 01:46:43</td>\n",
       "      <td>Cartagena</td>\n",
       "      <td>Colombia</td>\n",
       "      <td>1329602037521272833</td>\n",
       "      <td>https://twitter.com/i/web/status/1329602037521...</td>\n",
       "      <td>Translated(src=es, dest=en, text=Nobody sees C...</td>\n",
       "      <td>Nobody sees Christmas in Africa they will cry😍...</td>\n",
       "    </tr>\n",
       "  </tbody>\n",
       "</table>\n",
       "</div>"
      ],
      "text/plain": [
       "                                                  tweet                 date  \\\n",
       "284   @Ricardo030602 @Acosta497 @PaolaGuerreroI_ Y d...  2020-11-19 23:39:18   \n",
       "460   Ya pongan navidad y todo lo que quieran !! Ya ...  2020-11-18 15:03:06   \n",
       "1425  ¿Cómo podría ser la Navidad? \\n\\nSanidad prepa...  2020-11-19 09:39:03   \n",
       "937   @sergioheld @anfelo23 @QuinteroCalle Sabe por ...  2020-11-19 15:27:41   \n",
       "527    Nadie se vea Navidad en Africa van a llorar😍😭🐘❤️  2020-11-20 01:46:43   \n",
       "\n",
       "             city          user_location                   id  \\\n",
       "284          Cali               Colombia  1329569971857461249   \n",
       "460   Bucaramanga  Bucaramanga, Colombia  1329077677345554432   \n",
       "1425      Armenia              Andalucía  1329358518185562116   \n",
       "937        Ibagué               Pereira!  1329446253709717504   \n",
       "527     Cartagena               Colombia  1329602037521272833   \n",
       "\n",
       "                                                   link  \\\n",
       "284   https://twitter.com/i/web/status/1329569971857...   \n",
       "460   https://twitter.com/i/web/status/1329077677345...   \n",
       "1425  https://twitter.com/i/web/status/1329358518185...   \n",
       "937   https://twitter.com/i/web/status/1329446253709...   \n",
       "527   https://twitter.com/i/web/status/1329602037521...   \n",
       "\n",
       "                                                    ing  \\\n",
       "284   Translated(src=es, dest=en, text=@ Ricardo0306...   \n",
       "460   Translated(src=es, dest=en, text=Put Christmas...   \n",
       "1425  Translated(src=es, dest=en, text=How could Chr...   \n",
       "937   Translated(src=es, dest=en, text=@sergioheld @...   \n",
       "527   Translated(src=es, dest=en, text=Nobody sees C...   \n",
       "\n",
       "                                                 ingles  \n",
       "284   @ Ricardo030602 @ Acosta497 @PaolaGuerreroI_ A...  \n",
       "460   Put Christmas and everything you want! I alrea...  \n",
       "1425  How could Christmas be?\\n\\nHealth prepares a s...  \n",
       "937   @sergioheld @ anfelo23 @QuinteroCalle Do you k...  \n",
       "527   Nobody sees Christmas in Africa they will cry😍...  "
      ]
     },
     "execution_count": 10,
     "metadata": {},
     "output_type": "execute_result"
    }
   ],
   "source": [
    "data['ingles'] = data['ing'].apply(lambda valor: valor.text)\n",
    "data.head()"
   ]
  },
  {
   "cell_type": "code",
   "execution_count": 14,
   "metadata": {},
   "outputs": [
    {
     "data": {
      "text/html": [
       "<div>\n",
       "<style scoped>\n",
       "    .dataframe tbody tr th:only-of-type {\n",
       "        vertical-align: middle;\n",
       "    }\n",
       "\n",
       "    .dataframe tbody tr th {\n",
       "        vertical-align: top;\n",
       "    }\n",
       "\n",
       "    .dataframe thead th {\n",
       "        text-align: right;\n",
       "    }\n",
       "</style>\n",
       "<table border=\"1\" class=\"dataframe\">\n",
       "  <thead>\n",
       "    <tr style=\"text-align: right;\">\n",
       "      <th></th>\n",
       "      <th>tweet</th>\n",
       "      <th>date</th>\n",
       "      <th>city</th>\n",
       "      <th>user_location</th>\n",
       "      <th>id</th>\n",
       "      <th>link</th>\n",
       "      <th>ing</th>\n",
       "      <th>ingles</th>\n",
       "      <th>sentimiento</th>\n",
       "    </tr>\n",
       "  </thead>\n",
       "  <tbody>\n",
       "    <tr>\n",
       "      <th>284</th>\n",
       "      <td>@Ricardo030602 @Acosta497 @PaolaGuerreroI_ Y d...</td>\n",
       "      <td>2020-11-19 23:39:18</td>\n",
       "      <td>Cali</td>\n",
       "      <td>Colombia</td>\n",
       "      <td>1329569971857461249</td>\n",
       "      <td>https://twitter.com/i/web/status/1329569971857...</td>\n",
       "      <td>Translated(src=es, dest=en, text=@ Ricardo0306...</td>\n",
       "      <td>@ Ricardo030602 @ Acosta497 @PaolaGuerreroI_ A...</td>\n",
       "      <td>-0.8176</td>\n",
       "    </tr>\n",
       "    <tr>\n",
       "      <th>460</th>\n",
       "      <td>Ya pongan navidad y todo lo que quieran !! Ya ...</td>\n",
       "      <td>2020-11-18 15:03:06</td>\n",
       "      <td>Bucaramanga</td>\n",
       "      <td>Bucaramanga, Colombia</td>\n",
       "      <td>1329077677345554432</td>\n",
       "      <td>https://twitter.com/i/web/status/1329077677345...</td>\n",
       "      <td>Translated(src=es, dest=en, text=Put Christmas...</td>\n",
       "      <td>Put Christmas and everything you want! I alrea...</td>\n",
       "      <td>0.8070</td>\n",
       "    </tr>\n",
       "    <tr>\n",
       "      <th>1425</th>\n",
       "      <td>¿Cómo podría ser la Navidad? \\n\\nSanidad prepa...</td>\n",
       "      <td>2020-11-19 09:39:03</td>\n",
       "      <td>Armenia</td>\n",
       "      <td>Andalucía</td>\n",
       "      <td>1329358518185562116</td>\n",
       "      <td>https://twitter.com/i/web/status/1329358518185...</td>\n",
       "      <td>Translated(src=es, dest=en, text=How could Chr...</td>\n",
       "      <td>How could Christmas be?\\n\\nHealth prepares a s...</td>\n",
       "      <td>0.4019</td>\n",
       "    </tr>\n",
       "    <tr>\n",
       "      <th>937</th>\n",
       "      <td>@sergioheld @anfelo23 @QuinteroCalle Sabe por ...</td>\n",
       "      <td>2020-11-19 15:27:41</td>\n",
       "      <td>Ibagué</td>\n",
       "      <td>Pereira!</td>\n",
       "      <td>1329446253709717504</td>\n",
       "      <td>https://twitter.com/i/web/status/1329446253709...</td>\n",
       "      <td>Translated(src=es, dest=en, text=@sergioheld @...</td>\n",
       "      <td>@sergioheld @ anfelo23 @QuinteroCalle Do you k...</td>\n",
       "      <td>-0.0516</td>\n",
       "    </tr>\n",
       "    <tr>\n",
       "      <th>527</th>\n",
       "      <td>Nadie se vea Navidad en Africa van a llorar😍😭🐘❤️</td>\n",
       "      <td>2020-11-20 01:46:43</td>\n",
       "      <td>Cartagena</td>\n",
       "      <td>Colombia</td>\n",
       "      <td>1329602037521272833</td>\n",
       "      <td>https://twitter.com/i/web/status/1329602037521...</td>\n",
       "      <td>Translated(src=es, dest=en, text=Nobody sees C...</td>\n",
       "      <td>Nobody sees Christmas in Africa they will cry😍...</td>\n",
       "      <td>-0.4939</td>\n",
       "    </tr>\n",
       "  </tbody>\n",
       "</table>\n",
       "</div>"
      ],
      "text/plain": [
       "                                                  tweet                 date  \\\n",
       "284   @Ricardo030602 @Acosta497 @PaolaGuerreroI_ Y d...  2020-11-19 23:39:18   \n",
       "460   Ya pongan navidad y todo lo que quieran !! Ya ...  2020-11-18 15:03:06   \n",
       "1425  ¿Cómo podría ser la Navidad? \\n\\nSanidad prepa...  2020-11-19 09:39:03   \n",
       "937   @sergioheld @anfelo23 @QuinteroCalle Sabe por ...  2020-11-19 15:27:41   \n",
       "527    Nadie se vea Navidad en Africa van a llorar😍😭🐘❤️  2020-11-20 01:46:43   \n",
       "\n",
       "             city          user_location                   id  \\\n",
       "284          Cali               Colombia  1329569971857461249   \n",
       "460   Bucaramanga  Bucaramanga, Colombia  1329077677345554432   \n",
       "1425      Armenia              Andalucía  1329358518185562116   \n",
       "937        Ibagué               Pereira!  1329446253709717504   \n",
       "527     Cartagena               Colombia  1329602037521272833   \n",
       "\n",
       "                                                   link  \\\n",
       "284   https://twitter.com/i/web/status/1329569971857...   \n",
       "460   https://twitter.com/i/web/status/1329077677345...   \n",
       "1425  https://twitter.com/i/web/status/1329358518185...   \n",
       "937   https://twitter.com/i/web/status/1329446253709...   \n",
       "527   https://twitter.com/i/web/status/1329602037521...   \n",
       "\n",
       "                                                    ing  \\\n",
       "284   Translated(src=es, dest=en, text=@ Ricardo0306...   \n",
       "460   Translated(src=es, dest=en, text=Put Christmas...   \n",
       "1425  Translated(src=es, dest=en, text=How could Chr...   \n",
       "937   Translated(src=es, dest=en, text=@sergioheld @...   \n",
       "527   Translated(src=es, dest=en, text=Nobody sees C...   \n",
       "\n",
       "                                                 ingles  sentimiento  \n",
       "284   @ Ricardo030602 @ Acosta497 @PaolaGuerreroI_ A...      -0.8176  \n",
       "460   Put Christmas and everything you want! I alrea...       0.8070  \n",
       "1425  How could Christmas be?\\n\\nHealth prepares a s...       0.4019  \n",
       "937   @sergioheld @ anfelo23 @QuinteroCalle Do you k...      -0.0516  \n",
       "527   Nobody sees Christmas in Africa they will cry😍...      -0.4939  "
      ]
     },
     "execution_count": 14,
     "metadata": {},
     "output_type": "execute_result"
    }
   ],
   "source": [
    "from vaderSentiment.vaderSentiment import SentimentIntensityAnalyzer\n",
    "vader = SentimentIntensityAnalyzer()\n",
    "data['sentimiento'] = data['ingles'].apply(lambda valor: vader.polarity_scores(valor)['compound'])\n",
    "data.head()"
   ]
  },
  {
   "cell_type": "markdown",
   "metadata": {},
   "source": [
    "###  `[10 pts]` Punto 2: ¿Cuál es el tuit más positivo y más negativo?"
   ]
  },
  {
   "cell_type": "code",
   "execution_count": 39,
   "metadata": {},
   "outputs": [
    {
     "data": {
      "text/html": [
       "<div>\n",
       "<style scoped>\n",
       "    .dataframe tbody tr th:only-of-type {\n",
       "        vertical-align: middle;\n",
       "    }\n",
       "\n",
       "    .dataframe tbody tr th {\n",
       "        vertical-align: top;\n",
       "    }\n",
       "\n",
       "    .dataframe thead th {\n",
       "        text-align: right;\n",
       "    }\n",
       "</style>\n",
       "<table border=\"1\" class=\"dataframe\">\n",
       "  <thead>\n",
       "    <tr style=\"text-align: right;\">\n",
       "      <th></th>\n",
       "      <th>tweet</th>\n",
       "      <th>sentimiento</th>\n",
       "    </tr>\n",
       "  </thead>\n",
       "  <tbody>\n",
       "    <tr>\n",
       "      <th>202</th>\n",
       "      <td>@Diana12683720 @AndresC5805 @CamilaAvril @Quin...</td>\n",
       "      <td>-0.9454</td>\n",
       "    </tr>\n",
       "    <tr>\n",
       "      <th>1139</th>\n",
       "      <td>Hay personas que tienen miedo a quedarse sin p...</td>\n",
       "      <td>-0.9431</td>\n",
       "    </tr>\n",
       "    <tr>\n",
       "      <th>989</th>\n",
       "      <td>Hay personas que tienen miedo a quedarse sin p...</td>\n",
       "      <td>-0.9431</td>\n",
       "    </tr>\n",
       "    <tr>\n",
       "      <th>803</th>\n",
       "      <td>Nunca iré a pasar navidad con nadie😭😭😭😭😭 https...</td>\n",
       "      <td>-0.9382</td>\n",
       "    </tr>\n",
       "    <tr>\n",
       "      <th>504</th>\n",
       "      <td>Nunca iré a pasar navidad con nadie😭😭😭😭😭 https...</td>\n",
       "      <td>-0.9382</td>\n",
       "    </tr>\n",
       "    <tr>\n",
       "      <th>...</th>\n",
       "      <td>...</td>\n",
       "      <td>...</td>\n",
       "    </tr>\n",
       "    <tr>\n",
       "      <th>356</th>\n",
       "      <td>invitamos a que nos unamos a esta hermosa inic...</td>\n",
       "      <td>0.9757</td>\n",
       "    </tr>\n",
       "    <tr>\n",
       "      <th>578</th>\n",
       "      <td>The greatest showman de Navidad, mencanta para...</td>\n",
       "      <td>0.9770</td>\n",
       "    </tr>\n",
       "    <tr>\n",
       "      <th>857</th>\n",
       "      <td>The greatest showman de Navidad, mencanta para...</td>\n",
       "      <td>0.9830</td>\n",
       "    </tr>\n",
       "    <tr>\n",
       "      <th>1276</th>\n",
       "      <td>Diego Torres sinfónico de Navidad 💕💕💕💕💕💕💕</td>\n",
       "      <td>0.9862</td>\n",
       "    </tr>\n",
       "    <tr>\n",
       "      <th>1645</th>\n",
       "      <td>Aún no logró amar la navidad como mucho,  pero...</td>\n",
       "      <td>0.9957</td>\n",
       "    </tr>\n",
       "  </tbody>\n",
       "</table>\n",
       "<p>1000 rows × 2 columns</p>\n",
       "</div>"
      ],
      "text/plain": [
       "                                                  tweet  sentimiento\n",
       "202   @Diana12683720 @AndresC5805 @CamilaAvril @Quin...      -0.9454\n",
       "1139  Hay personas que tienen miedo a quedarse sin p...      -0.9431\n",
       "989   Hay personas que tienen miedo a quedarse sin p...      -0.9431\n",
       "803   Nunca iré a pasar navidad con nadie😭😭😭😭😭 https...      -0.9382\n",
       "504   Nunca iré a pasar navidad con nadie😭😭😭😭😭 https...      -0.9382\n",
       "...                                                 ...          ...\n",
       "356   invitamos a que nos unamos a esta hermosa inic...       0.9757\n",
       "578   The greatest showman de Navidad, mencanta para...       0.9770\n",
       "857   The greatest showman de Navidad, mencanta para...       0.9830\n",
       "1276          Diego Torres sinfónico de Navidad 💕💕💕💕💕💕💕       0.9862\n",
       "1645  Aún no logró amar la navidad como mucho,  pero...       0.9957\n",
       "\n",
       "[1000 rows x 2 columns]"
      ]
     },
     "execution_count": 39,
     "metadata": {},
     "output_type": "execute_result"
    }
   ],
   "source": [
    "data[['tweet', 'sentimiento']].sort_values('sentimiento')"
   ]
  },
  {
   "cell_type": "markdown",
   "metadata": {},
   "source": [
    "## Tuit mas negativo"
   ]
  },
  {
   "cell_type": "code",
   "execution_count": 40,
   "metadata": {},
   "outputs": [
    {
     "data": {
      "text/plain": [
       "'@Diana12683720 @AndresC5805 @CamilaAvril @QuinteroCalle Y tuyo tampoco, además, si lleva celebrando navidad desde que nació, de culos pal infierno por pagana, perra, racista de mierda, ojalá la vida no te cobre lo hija de puta que sos'"
      ]
     },
     "execution_count": 40,
     "metadata": {},
     "output_type": "execute_result"
    }
   ],
   "source": [
    "data.loc[202]['tweet']"
   ]
  },
  {
   "cell_type": "markdown",
   "metadata": {},
   "source": [
    "## Tuit mas Positivo"
   ]
  },
  {
   "cell_type": "code",
   "execution_count": 41,
   "metadata": {},
   "outputs": [
    {
     "data": {
      "text/plain": [
       "'invitamos a que nos unamos a esta hermosa iniciativa para regalar una bonita Navidad a un Angelito. 😇🤗⭐🙏🎄🎁\\n\\n¡Contamos con ustedes!💙 https://t.co/eL7jDSD3Ty'"
      ]
     },
     "execution_count": 41,
     "metadata": {},
     "output_type": "execute_result"
    }
   ],
   "source": [
    "data.loc[356]['tweet']"
   ]
  },
  {
   "cell_type": "markdown",
   "metadata": {},
   "source": [
    "###  `[15 pts]` Punto 3: ¿Cuántos tuits positivos/negativos hay en sus datos?"
   ]
  },
  {
   "cell_type": "code",
   "execution_count": 42,
   "metadata": {},
   "outputs": [
    {
     "data": {
      "text/html": [
       "<div>\n",
       "<style scoped>\n",
       "    .dataframe tbody tr th:only-of-type {\n",
       "        vertical-align: middle;\n",
       "    }\n",
       "\n",
       "    .dataframe tbody tr th {\n",
       "        vertical-align: top;\n",
       "    }\n",
       "\n",
       "    .dataframe thead th {\n",
       "        text-align: right;\n",
       "    }\n",
       "</style>\n",
       "<table border=\"1\" class=\"dataframe\">\n",
       "  <thead>\n",
       "    <tr style=\"text-align: right;\">\n",
       "      <th></th>\n",
       "      <th>tweet</th>\n",
       "      <th>sentimiento</th>\n",
       "    </tr>\n",
       "  </thead>\n",
       "  <tbody>\n",
       "    <tr>\n",
       "      <th>202</th>\n",
       "      <td>@Diana12683720 @AndresC5805 @CamilaAvril @Quin...</td>\n",
       "      <td>-0.9454</td>\n",
       "    </tr>\n",
       "    <tr>\n",
       "      <th>1139</th>\n",
       "      <td>Hay personas que tienen miedo a quedarse sin p...</td>\n",
       "      <td>-0.9431</td>\n",
       "    </tr>\n",
       "    <tr>\n",
       "      <th>989</th>\n",
       "      <td>Hay personas que tienen miedo a quedarse sin p...</td>\n",
       "      <td>-0.9431</td>\n",
       "    </tr>\n",
       "    <tr>\n",
       "      <th>803</th>\n",
       "      <td>Nunca iré a pasar navidad con nadie😭😭😭😭😭 https...</td>\n",
       "      <td>-0.9382</td>\n",
       "    </tr>\n",
       "    <tr>\n",
       "      <th>504</th>\n",
       "      <td>Nunca iré a pasar navidad con nadie😭😭😭😭😭 https...</td>\n",
       "      <td>-0.9382</td>\n",
       "    </tr>\n",
       "    <tr>\n",
       "      <th>...</th>\n",
       "      <td>...</td>\n",
       "      <td>...</td>\n",
       "    </tr>\n",
       "    <tr>\n",
       "      <th>356</th>\n",
       "      <td>invitamos a que nos unamos a esta hermosa inic...</td>\n",
       "      <td>0.9757</td>\n",
       "    </tr>\n",
       "    <tr>\n",
       "      <th>578</th>\n",
       "      <td>The greatest showman de Navidad, mencanta para...</td>\n",
       "      <td>0.9770</td>\n",
       "    </tr>\n",
       "    <tr>\n",
       "      <th>857</th>\n",
       "      <td>The greatest showman de Navidad, mencanta para...</td>\n",
       "      <td>0.9830</td>\n",
       "    </tr>\n",
       "    <tr>\n",
       "      <th>1276</th>\n",
       "      <td>Diego Torres sinfónico de Navidad 💕💕💕💕💕💕💕</td>\n",
       "      <td>0.9862</td>\n",
       "    </tr>\n",
       "    <tr>\n",
       "      <th>1645</th>\n",
       "      <td>Aún no logró amar la navidad como mucho,  pero...</td>\n",
       "      <td>0.9957</td>\n",
       "    </tr>\n",
       "  </tbody>\n",
       "</table>\n",
       "<p>1000 rows × 2 columns</p>\n",
       "</div>"
      ],
      "text/plain": [
       "                                                  tweet  sentimiento\n",
       "202   @Diana12683720 @AndresC5805 @CamilaAvril @Quin...      -0.9454\n",
       "1139  Hay personas que tienen miedo a quedarse sin p...      -0.9431\n",
       "989   Hay personas que tienen miedo a quedarse sin p...      -0.9431\n",
       "803   Nunca iré a pasar navidad con nadie😭😭😭😭😭 https...      -0.9382\n",
       "504   Nunca iré a pasar navidad con nadie😭😭😭😭😭 https...      -0.9382\n",
       "...                                                 ...          ...\n",
       "356   invitamos a que nos unamos a esta hermosa inic...       0.9757\n",
       "578   The greatest showman de Navidad, mencanta para...       0.9770\n",
       "857   The greatest showman de Navidad, mencanta para...       0.9830\n",
       "1276          Diego Torres sinfónico de Navidad 💕💕💕💕💕💕💕       0.9862\n",
       "1645  Aún no logró amar la navidad como mucho,  pero...       0.9957\n",
       "\n",
       "[1000 rows x 2 columns]"
      ]
     },
     "execution_count": 42,
     "metadata": {},
     "output_type": "execute_result"
    }
   ],
   "source": [
    "d=data[['tweet', 'sentimiento']].sort_values('sentimiento')\n",
    "d"
   ]
  },
  {
   "cell_type": "code",
   "execution_count": 70,
   "metadata": {},
   "outputs": [
    {
     "data": {
      "text/plain": [
       "False    788\n",
       "True     212\n",
       "Name: neg, dtype: int64"
      ]
     },
     "execution_count": 70,
     "metadata": {},
     "output_type": "execute_result"
    }
   ],
   "source": [
    "d[\"neg\"] = d['sentimiento'] < 0\n",
    "d[\"neg\"].value_counts()"
   ]
  },
  {
   "cell_type": "markdown",
   "metadata": {},
   "source": [
    "###  `[BONUS 5pts]` : Diagrama de barras de la pregunta 3\n",
    "\n",
    "###  `[BONUS 7pts]` : Nubes de palabras por sentimiento"
   ]
  },
  {
   "cell_type": "code",
   "execution_count": null,
   "metadata": {},
   "outputs": [],
   "source": []
  },
  {
   "cell_type": "code",
   "execution_count": 76,
   "metadata": {},
   "outputs": [
    {
     "data": {
      "text/html": [
       "<div>\n",
       "<style scoped>\n",
       "    .dataframe tbody tr th:only-of-type {\n",
       "        vertical-align: middle;\n",
       "    }\n",
       "\n",
       "    .dataframe tbody tr th {\n",
       "        vertical-align: top;\n",
       "    }\n",
       "\n",
       "    .dataframe thead th {\n",
       "        text-align: right;\n",
       "    }\n",
       "</style>\n",
       "<table border=\"1\" class=\"dataframe\">\n",
       "  <thead>\n",
       "    <tr style=\"text-align: right;\">\n",
       "      <th></th>\n",
       "      <th>tweet</th>\n",
       "      <th>date</th>\n",
       "      <th>city</th>\n",
       "      <th>user_location</th>\n",
       "      <th>id</th>\n",
       "      <th>link</th>\n",
       "      <th>ing</th>\n",
       "      <th>ingles</th>\n",
       "      <th>sentimiento</th>\n",
       "      <th>clean</th>\n",
       "      <th>links</th>\n",
       "      <th>hashtags</th>\n",
       "      <th>mentions</th>\n",
       "    </tr>\n",
       "  </thead>\n",
       "  <tbody>\n",
       "    <tr>\n",
       "      <th>284</th>\n",
       "      <td>@Ricardo030602 @Acosta497 @PaolaGuerreroI_ Y d...</td>\n",
       "      <td>2020-11-19 23:39:18</td>\n",
       "      <td>Cali</td>\n",
       "      <td>Colombia</td>\n",
       "      <td>1329569971857461249</td>\n",
       "      <td>https://twitter.com/i/web/status/1329569971857...</td>\n",
       "      <td>Translated(src=es, dest=en, text=@ Ricardo0306...</td>\n",
       "      <td>@ Ricardo030602 @ Acosta497 @PaolaGuerreroI_ A...</td>\n",
       "      <td>-0.8176</td>\n",
       "      <td>Y desde cuando la navidad es alusiva al dia...</td>\n",
       "      <td>[]</td>\n",
       "      <td>[]</td>\n",
       "      <td>[@Ricardo030602, @Acosta497, @PaolaGuerreroI_]</td>\n",
       "    </tr>\n",
       "    <tr>\n",
       "      <th>460</th>\n",
       "      <td>Ya pongan navidad y todo lo que quieran !! Ya ...</td>\n",
       "      <td>2020-11-18 15:03:06</td>\n",
       "      <td>Bucaramanga</td>\n",
       "      <td>Bucaramanga, Colombia</td>\n",
       "      <td>1329077677345554432</td>\n",
       "      <td>https://twitter.com/i/web/status/1329077677345...</td>\n",
       "      <td>Translated(src=es, dest=en, text=Put Christmas...</td>\n",
       "      <td>Put Christmas and everything you want! I alrea...</td>\n",
       "      <td>0.8070</td>\n",
       "      <td>Ya pongan navidad y todo lo que quieran !! Ya ...</td>\n",
       "      <td>[]</td>\n",
       "      <td>[]</td>\n",
       "      <td>[]</td>\n",
       "    </tr>\n",
       "    <tr>\n",
       "      <th>1425</th>\n",
       "      <td>¿Cómo podría ser la Navidad? \\n\\nSanidad prepa...</td>\n",
       "      <td>2020-11-19 09:39:03</td>\n",
       "      <td>Armenia</td>\n",
       "      <td>Andalucía</td>\n",
       "      <td>1329358518185562116</td>\n",
       "      <td>https://twitter.com/i/web/status/1329358518185...</td>\n",
       "      <td>Translated(src=es, dest=en, text=How could Chr...</td>\n",
       "      <td>How could Christmas be?\\n\\nHealth prepares a s...</td>\n",
       "      <td>0.4019</td>\n",
       "      <td>¿Cómo podría ser la Navidad? \\n\\nSanidad prepa...</td>\n",
       "      <td>[https://t.co/OmfuR13nLK]</td>\n",
       "      <td>[#hed19nov]</td>\n",
       "      <td>[@merlaracabello]</td>\n",
       "    </tr>\n",
       "    <tr>\n",
       "      <th>937</th>\n",
       "      <td>@sergioheld @anfelo23 @QuinteroCalle Sabe por ...</td>\n",
       "      <td>2020-11-19 15:27:41</td>\n",
       "      <td>Ibagué</td>\n",
       "      <td>Pereira!</td>\n",
       "      <td>1329446253709717504</td>\n",
       "      <td>https://twitter.com/i/web/status/1329446253709...</td>\n",
       "      <td>Translated(src=es, dest=en, text=@sergioheld @...</td>\n",
       "      <td>@sergioheld @ anfelo23 @QuinteroCalle Do you k...</td>\n",
       "      <td>-0.0516</td>\n",
       "      <td>Sabe por qué, cuándo y cómo se originó la t...</td>\n",
       "      <td>[]</td>\n",
       "      <td>[]</td>\n",
       "      <td>[@sergioheld, @anfelo23, @QuinteroCalle]</td>\n",
       "    </tr>\n",
       "    <tr>\n",
       "      <th>527</th>\n",
       "      <td>Nadie se vea Navidad en Africa van a llorar😍😭🐘❤️</td>\n",
       "      <td>2020-11-20 01:46:43</td>\n",
       "      <td>Cartagena</td>\n",
       "      <td>Colombia</td>\n",
       "      <td>1329602037521272833</td>\n",
       "      <td>https://twitter.com/i/web/status/1329602037521...</td>\n",
       "      <td>Translated(src=es, dest=en, text=Nobody sees C...</td>\n",
       "      <td>Nobody sees Christmas in Africa they will cry😍...</td>\n",
       "      <td>-0.4939</td>\n",
       "      <td>Nadie se vea Navidad en Africa van a llorar😍😭🐘❤️</td>\n",
       "      <td>[]</td>\n",
       "      <td>[]</td>\n",
       "      <td>[]</td>\n",
       "    </tr>\n",
       "  </tbody>\n",
       "</table>\n",
       "</div>"
      ],
      "text/plain": [
       "                                                  tweet                 date  \\\n",
       "284   @Ricardo030602 @Acosta497 @PaolaGuerreroI_ Y d...  2020-11-19 23:39:18   \n",
       "460   Ya pongan navidad y todo lo que quieran !! Ya ...  2020-11-18 15:03:06   \n",
       "1425  ¿Cómo podría ser la Navidad? \\n\\nSanidad prepa...  2020-11-19 09:39:03   \n",
       "937   @sergioheld @anfelo23 @QuinteroCalle Sabe por ...  2020-11-19 15:27:41   \n",
       "527    Nadie se vea Navidad en Africa van a llorar😍😭🐘❤️  2020-11-20 01:46:43   \n",
       "\n",
       "             city          user_location                   id  \\\n",
       "284          Cali               Colombia  1329569971857461249   \n",
       "460   Bucaramanga  Bucaramanga, Colombia  1329077677345554432   \n",
       "1425      Armenia              Andalucía  1329358518185562116   \n",
       "937        Ibagué               Pereira!  1329446253709717504   \n",
       "527     Cartagena               Colombia  1329602037521272833   \n",
       "\n",
       "                                                   link  \\\n",
       "284   https://twitter.com/i/web/status/1329569971857...   \n",
       "460   https://twitter.com/i/web/status/1329077677345...   \n",
       "1425  https://twitter.com/i/web/status/1329358518185...   \n",
       "937   https://twitter.com/i/web/status/1329446253709...   \n",
       "527   https://twitter.com/i/web/status/1329602037521...   \n",
       "\n",
       "                                                    ing  \\\n",
       "284   Translated(src=es, dest=en, text=@ Ricardo0306...   \n",
       "460   Translated(src=es, dest=en, text=Put Christmas...   \n",
       "1425  Translated(src=es, dest=en, text=How could Chr...   \n",
       "937   Translated(src=es, dest=en, text=@sergioheld @...   \n",
       "527   Translated(src=es, dest=en, text=Nobody sees C...   \n",
       "\n",
       "                                                 ingles  sentimiento  \\\n",
       "284   @ Ricardo030602 @ Acosta497 @PaolaGuerreroI_ A...      -0.8176   \n",
       "460   Put Christmas and everything you want! I alrea...       0.8070   \n",
       "1425  How could Christmas be?\\n\\nHealth prepares a s...       0.4019   \n",
       "937   @sergioheld @ anfelo23 @QuinteroCalle Do you k...      -0.0516   \n",
       "527   Nobody sees Christmas in Africa they will cry😍...      -0.4939   \n",
       "\n",
       "                                                  clean  \\\n",
       "284      Y desde cuando la navidad es alusiva al dia...   \n",
       "460   Ya pongan navidad y todo lo que quieran !! Ya ...   \n",
       "1425  ¿Cómo podría ser la Navidad? \\n\\nSanidad prepa...   \n",
       "937      Sabe por qué, cuándo y cómo se originó la t...   \n",
       "527    Nadie se vea Navidad en Africa van a llorar😍😭🐘❤️   \n",
       "\n",
       "                          links     hashtags  \\\n",
       "284                          []           []   \n",
       "460                          []           []   \n",
       "1425  [https://t.co/OmfuR13nLK]  [#hed19nov]   \n",
       "937                          []           []   \n",
       "527                          []           []   \n",
       "\n",
       "                                            mentions  \n",
       "284   [@Ricardo030602, @Acosta497, @PaolaGuerreroI_]  \n",
       "460                                               []  \n",
       "1425                               [@merlaracabello]  \n",
       "937         [@sergioheld, @anfelo23, @QuinteroCalle]  \n",
       "527                                               []  "
      ]
     },
     "execution_count": 76,
     "metadata": {},
     "output_type": "execute_result"
    }
   ],
   "source": [
    "data[['clean', 'links', 'hashtags', 'mentions']] = data.apply(text_clean, axis=1, result_type='expand')\n",
    "\n",
    "data.head()"
   ]
  },
  {
   "cell_type": "code",
   "execution_count": 77,
   "metadata": {},
   "outputs": [],
   "source": [
    "import regex\n",
    "import emoji\n",
    "\n",
    "def get_emojis(text):\n",
    "    emoji_list = []\n",
    "    data = regex.findall(r'\\X', text)\n",
    "    for word in data:\n",
    "        if any(char in emoji.UNICODE_EMOJI for char in word):\n",
    "            emoji_list.append(word)\n",
    "\n",
    "    return emoji_list\n",
    "\n",
    "data['emojis'] = data['clean'].apply(lambda text: get_emojis(text))"
   ]
  },
  {
   "cell_type": "code",
   "execution_count": 78,
   "metadata": {},
   "outputs": [
    {
     "data": {
      "text/html": [
       "<div>\n",
       "<style scoped>\n",
       "    .dataframe tbody tr th:only-of-type {\n",
       "        vertical-align: middle;\n",
       "    }\n",
       "\n",
       "    .dataframe tbody tr th {\n",
       "        vertical-align: top;\n",
       "    }\n",
       "\n",
       "    .dataframe thead th {\n",
       "        text-align: right;\n",
       "    }\n",
       "</style>\n",
       "<table border=\"1\" class=\"dataframe\">\n",
       "  <thead>\n",
       "    <tr style=\"text-align: right;\">\n",
       "      <th></th>\n",
       "      <th>emoji</th>\n",
       "      <th>cnt</th>\n",
       "    </tr>\n",
       "  </thead>\n",
       "  <tbody>\n",
       "    <tr>\n",
       "      <th>9</th>\n",
       "      <td>🎄</td>\n",
       "      <td>76</td>\n",
       "    </tr>\n",
       "    <tr>\n",
       "      <th>1</th>\n",
       "      <td>😍</td>\n",
       "      <td>50</td>\n",
       "    </tr>\n",
       "    <tr>\n",
       "      <th>13</th>\n",
       "      <td>✨</td>\n",
       "      <td>32</td>\n",
       "    </tr>\n",
       "    <tr>\n",
       "      <th>23</th>\n",
       "      <td>🤣</td>\n",
       "      <td>29</td>\n",
       "    </tr>\n",
       "    <tr>\n",
       "      <th>2</th>\n",
       "      <td>😭</td>\n",
       "      <td>24</td>\n",
       "    </tr>\n",
       "  </tbody>\n",
       "</table>\n",
       "</div>"
      ],
      "text/plain": [
       "   emoji  cnt\n",
       "9      🎄   76\n",
       "1      😍   50\n",
       "13     ✨   32\n",
       "23     🤣   29\n",
       "2      😭   24"
      ]
     },
     "execution_count": 78,
     "metadata": {},
     "output_type": "execute_result"
    }
   ],
   "source": [
    "from collections import Counter\n",
    "\n",
    "temp_emojis = pd.DataFrame(list(zip(Counter(sum(data.emojis.values,[])).keys(),Counter(sum(data.emojis.values,[])).values())))\n",
    "temp_emojis.columns = ['emoji', 'cnt']\n",
    "temp_emojis.sort_values('cnt', ascending=False, inplace=True)\n",
    "temp_emojis.head()"
   ]
  },
  {
   "cell_type": "code",
   "execution_count": 80,
   "metadata": {},
   "outputs": [
    {
     "data": {
      "text/html": [
       "        <script type=\"text/javascript\">\n",
       "        window.PlotlyConfig = {MathJaxConfig: 'local'};\n",
       "        if (window.MathJax) {MathJax.Hub.Config({SVG: {font: \"STIX-Web\"}});}\n",
       "        if (typeof require !== 'undefined') {\n",
       "        require.undef(\"plotly\");\n",
       "        requirejs.config({\n",
       "            paths: {\n",
       "                'plotly': ['https://cdn.plot.ly/plotly-latest.min']\n",
       "            }\n",
       "        });\n",
       "        require(['plotly'], function(Plotly) {\n",
       "            window._Plotly = Plotly;\n",
       "        });\n",
       "        }\n",
       "        </script>\n",
       "        "
      ]
     },
     "metadata": {},
     "output_type": "display_data"
    }
   ],
   "source": [
    "import plotly.io as pio\n",
    "import plotly.express as px\n",
    "import plotly.graph_objs as go\n",
    "from plotly.offline import download_plotlyjs, init_notebook_mode, plot, iplot\n",
    "\n",
    "import matplotlib.pyplot as plt\n",
    "%matplotlib inline\n",
    "init_notebook_mode(connected=True)"
   ]
  },
  {
   "cell_type": "code",
   "execution_count": 81,
   "metadata": {},
   "outputs": [
    {
     "data": {
      "application/vnd.plotly.v1+json": {
       "config": {
        "linkText": "Export to plot.ly",
        "plotlyServerURL": "https://plot.ly",
        "showLink": false
       },
       "data": [
        {
         "type": "bar",
         "x": [
          "🎄",
          "😍",
          "✨",
          "🤣",
          "😭",
          "❤️",
          "😂",
          "🥰",
          "🥺",
          "🤩",
          "🎅",
          "🎁",
          "😅",
          "🤭",
          "🎶"
         ],
         "y": [
          76,
          50,
          32,
          29,
          24,
          23,
          23,
          23,
          22,
          13,
          13,
          13,
          12,
          12,
          10
         ]
        }
       ],
       "layout": {
        "template": {
         "data": {
          "bar": [
           {
            "error_x": {
             "color": "#2a3f5f"
            },
            "error_y": {
             "color": "#2a3f5f"
            },
            "marker": {
             "line": {
              "color": "#E5ECF6",
              "width": 0.5
             }
            },
            "type": "bar"
           }
          ],
          "barpolar": [
           {
            "marker": {
             "line": {
              "color": "#E5ECF6",
              "width": 0.5
             }
            },
            "type": "barpolar"
           }
          ],
          "carpet": [
           {
            "aaxis": {
             "endlinecolor": "#2a3f5f",
             "gridcolor": "white",
             "linecolor": "white",
             "minorgridcolor": "white",
             "startlinecolor": "#2a3f5f"
            },
            "baxis": {
             "endlinecolor": "#2a3f5f",
             "gridcolor": "white",
             "linecolor": "white",
             "minorgridcolor": "white",
             "startlinecolor": "#2a3f5f"
            },
            "type": "carpet"
           }
          ],
          "choropleth": [
           {
            "colorbar": {
             "outlinewidth": 0,
             "ticks": ""
            },
            "type": "choropleth"
           }
          ],
          "contour": [
           {
            "colorbar": {
             "outlinewidth": 0,
             "ticks": ""
            },
            "colorscale": [
             [
              0,
              "#0d0887"
             ],
             [
              0.1111111111111111,
              "#46039f"
             ],
             [
              0.2222222222222222,
              "#7201a8"
             ],
             [
              0.3333333333333333,
              "#9c179e"
             ],
             [
              0.4444444444444444,
              "#bd3786"
             ],
             [
              0.5555555555555556,
              "#d8576b"
             ],
             [
              0.6666666666666666,
              "#ed7953"
             ],
             [
              0.7777777777777778,
              "#fb9f3a"
             ],
             [
              0.8888888888888888,
              "#fdca26"
             ],
             [
              1,
              "#f0f921"
             ]
            ],
            "type": "contour"
           }
          ],
          "contourcarpet": [
           {
            "colorbar": {
             "outlinewidth": 0,
             "ticks": ""
            },
            "type": "contourcarpet"
           }
          ],
          "heatmap": [
           {
            "colorbar": {
             "outlinewidth": 0,
             "ticks": ""
            },
            "colorscale": [
             [
              0,
              "#0d0887"
             ],
             [
              0.1111111111111111,
              "#46039f"
             ],
             [
              0.2222222222222222,
              "#7201a8"
             ],
             [
              0.3333333333333333,
              "#9c179e"
             ],
             [
              0.4444444444444444,
              "#bd3786"
             ],
             [
              0.5555555555555556,
              "#d8576b"
             ],
             [
              0.6666666666666666,
              "#ed7953"
             ],
             [
              0.7777777777777778,
              "#fb9f3a"
             ],
             [
              0.8888888888888888,
              "#fdca26"
             ],
             [
              1,
              "#f0f921"
             ]
            ],
            "type": "heatmap"
           }
          ],
          "heatmapgl": [
           {
            "colorbar": {
             "outlinewidth": 0,
             "ticks": ""
            },
            "colorscale": [
             [
              0,
              "#0d0887"
             ],
             [
              0.1111111111111111,
              "#46039f"
             ],
             [
              0.2222222222222222,
              "#7201a8"
             ],
             [
              0.3333333333333333,
              "#9c179e"
             ],
             [
              0.4444444444444444,
              "#bd3786"
             ],
             [
              0.5555555555555556,
              "#d8576b"
             ],
             [
              0.6666666666666666,
              "#ed7953"
             ],
             [
              0.7777777777777778,
              "#fb9f3a"
             ],
             [
              0.8888888888888888,
              "#fdca26"
             ],
             [
              1,
              "#f0f921"
             ]
            ],
            "type": "heatmapgl"
           }
          ],
          "histogram": [
           {
            "marker": {
             "colorbar": {
              "outlinewidth": 0,
              "ticks": ""
             }
            },
            "type": "histogram"
           }
          ],
          "histogram2d": [
           {
            "colorbar": {
             "outlinewidth": 0,
             "ticks": ""
            },
            "colorscale": [
             [
              0,
              "#0d0887"
             ],
             [
              0.1111111111111111,
              "#46039f"
             ],
             [
              0.2222222222222222,
              "#7201a8"
             ],
             [
              0.3333333333333333,
              "#9c179e"
             ],
             [
              0.4444444444444444,
              "#bd3786"
             ],
             [
              0.5555555555555556,
              "#d8576b"
             ],
             [
              0.6666666666666666,
              "#ed7953"
             ],
             [
              0.7777777777777778,
              "#fb9f3a"
             ],
             [
              0.8888888888888888,
              "#fdca26"
             ],
             [
              1,
              "#f0f921"
             ]
            ],
            "type": "histogram2d"
           }
          ],
          "histogram2dcontour": [
           {
            "colorbar": {
             "outlinewidth": 0,
             "ticks": ""
            },
            "colorscale": [
             [
              0,
              "#0d0887"
             ],
             [
              0.1111111111111111,
              "#46039f"
             ],
             [
              0.2222222222222222,
              "#7201a8"
             ],
             [
              0.3333333333333333,
              "#9c179e"
             ],
             [
              0.4444444444444444,
              "#bd3786"
             ],
             [
              0.5555555555555556,
              "#d8576b"
             ],
             [
              0.6666666666666666,
              "#ed7953"
             ],
             [
              0.7777777777777778,
              "#fb9f3a"
             ],
             [
              0.8888888888888888,
              "#fdca26"
             ],
             [
              1,
              "#f0f921"
             ]
            ],
            "type": "histogram2dcontour"
           }
          ],
          "mesh3d": [
           {
            "colorbar": {
             "outlinewidth": 0,
             "ticks": ""
            },
            "type": "mesh3d"
           }
          ],
          "parcoords": [
           {
            "line": {
             "colorbar": {
              "outlinewidth": 0,
              "ticks": ""
             }
            },
            "type": "parcoords"
           }
          ],
          "pie": [
           {
            "automargin": true,
            "type": "pie"
           }
          ],
          "scatter": [
           {
            "marker": {
             "colorbar": {
              "outlinewidth": 0,
              "ticks": ""
             }
            },
            "type": "scatter"
           }
          ],
          "scatter3d": [
           {
            "line": {
             "colorbar": {
              "outlinewidth": 0,
              "ticks": ""
             }
            },
            "marker": {
             "colorbar": {
              "outlinewidth": 0,
              "ticks": ""
             }
            },
            "type": "scatter3d"
           }
          ],
          "scattercarpet": [
           {
            "marker": {
             "colorbar": {
              "outlinewidth": 0,
              "ticks": ""
             }
            },
            "type": "scattercarpet"
           }
          ],
          "scattergeo": [
           {
            "marker": {
             "colorbar": {
              "outlinewidth": 0,
              "ticks": ""
             }
            },
            "type": "scattergeo"
           }
          ],
          "scattergl": [
           {
            "marker": {
             "colorbar": {
              "outlinewidth": 0,
              "ticks": ""
             }
            },
            "type": "scattergl"
           }
          ],
          "scattermapbox": [
           {
            "marker": {
             "colorbar": {
              "outlinewidth": 0,
              "ticks": ""
             }
            },
            "type": "scattermapbox"
           }
          ],
          "scatterpolar": [
           {
            "marker": {
             "colorbar": {
              "outlinewidth": 0,
              "ticks": ""
             }
            },
            "type": "scatterpolar"
           }
          ],
          "scatterpolargl": [
           {
            "marker": {
             "colorbar": {
              "outlinewidth": 0,
              "ticks": ""
             }
            },
            "type": "scatterpolargl"
           }
          ],
          "scatterternary": [
           {
            "marker": {
             "colorbar": {
              "outlinewidth": 0,
              "ticks": ""
             }
            },
            "type": "scatterternary"
           }
          ],
          "surface": [
           {
            "colorbar": {
             "outlinewidth": 0,
             "ticks": ""
            },
            "colorscale": [
             [
              0,
              "#0d0887"
             ],
             [
              0.1111111111111111,
              "#46039f"
             ],
             [
              0.2222222222222222,
              "#7201a8"
             ],
             [
              0.3333333333333333,
              "#9c179e"
             ],
             [
              0.4444444444444444,
              "#bd3786"
             ],
             [
              0.5555555555555556,
              "#d8576b"
             ],
             [
              0.6666666666666666,
              "#ed7953"
             ],
             [
              0.7777777777777778,
              "#fb9f3a"
             ],
             [
              0.8888888888888888,
              "#fdca26"
             ],
             [
              1,
              "#f0f921"
             ]
            ],
            "type": "surface"
           }
          ],
          "table": [
           {
            "cells": {
             "fill": {
              "color": "#EBF0F8"
             },
             "line": {
              "color": "white"
             }
            },
            "header": {
             "fill": {
              "color": "#C8D4E3"
             },
             "line": {
              "color": "white"
             }
            },
            "type": "table"
           }
          ]
         },
         "layout": {
          "annotationdefaults": {
           "arrowcolor": "#2a3f5f",
           "arrowhead": 0,
           "arrowwidth": 1
          },
          "coloraxis": {
           "colorbar": {
            "outlinewidth": 0,
            "ticks": ""
           }
          },
          "colorscale": {
           "diverging": [
            [
             0,
             "#8e0152"
            ],
            [
             0.1,
             "#c51b7d"
            ],
            [
             0.2,
             "#de77ae"
            ],
            [
             0.3,
             "#f1b6da"
            ],
            [
             0.4,
             "#fde0ef"
            ],
            [
             0.5,
             "#f7f7f7"
            ],
            [
             0.6,
             "#e6f5d0"
            ],
            [
             0.7,
             "#b8e186"
            ],
            [
             0.8,
             "#7fbc41"
            ],
            [
             0.9,
             "#4d9221"
            ],
            [
             1,
             "#276419"
            ]
           ],
           "sequential": [
            [
             0,
             "#0d0887"
            ],
            [
             0.1111111111111111,
             "#46039f"
            ],
            [
             0.2222222222222222,
             "#7201a8"
            ],
            [
             0.3333333333333333,
             "#9c179e"
            ],
            [
             0.4444444444444444,
             "#bd3786"
            ],
            [
             0.5555555555555556,
             "#d8576b"
            ],
            [
             0.6666666666666666,
             "#ed7953"
            ],
            [
             0.7777777777777778,
             "#fb9f3a"
            ],
            [
             0.8888888888888888,
             "#fdca26"
            ],
            [
             1,
             "#f0f921"
            ]
           ],
           "sequentialminus": [
            [
             0,
             "#0d0887"
            ],
            [
             0.1111111111111111,
             "#46039f"
            ],
            [
             0.2222222222222222,
             "#7201a8"
            ],
            [
             0.3333333333333333,
             "#9c179e"
            ],
            [
             0.4444444444444444,
             "#bd3786"
            ],
            [
             0.5555555555555556,
             "#d8576b"
            ],
            [
             0.6666666666666666,
             "#ed7953"
            ],
            [
             0.7777777777777778,
             "#fb9f3a"
            ],
            [
             0.8888888888888888,
             "#fdca26"
            ],
            [
             1,
             "#f0f921"
            ]
           ]
          },
          "colorway": [
           "#636efa",
           "#EF553B",
           "#00cc96",
           "#ab63fa",
           "#FFA15A",
           "#19d3f3",
           "#FF6692",
           "#B6E880",
           "#FF97FF",
           "#FECB52"
          ],
          "font": {
           "color": "#2a3f5f"
          },
          "geo": {
           "bgcolor": "white",
           "lakecolor": "white",
           "landcolor": "#E5ECF6",
           "showlakes": true,
           "showland": true,
           "subunitcolor": "white"
          },
          "hoverlabel": {
           "align": "left"
          },
          "hovermode": "closest",
          "mapbox": {
           "style": "light"
          },
          "paper_bgcolor": "white",
          "plot_bgcolor": "#E5ECF6",
          "polar": {
           "angularaxis": {
            "gridcolor": "white",
            "linecolor": "white",
            "ticks": ""
           },
           "bgcolor": "#E5ECF6",
           "radialaxis": {
            "gridcolor": "white",
            "linecolor": "white",
            "ticks": ""
           }
          },
          "scene": {
           "xaxis": {
            "backgroundcolor": "#E5ECF6",
            "gridcolor": "white",
            "gridwidth": 2,
            "linecolor": "white",
            "showbackground": true,
            "ticks": "",
            "zerolinecolor": "white"
           },
           "yaxis": {
            "backgroundcolor": "#E5ECF6",
            "gridcolor": "white",
            "gridwidth": 2,
            "linecolor": "white",
            "showbackground": true,
            "ticks": "",
            "zerolinecolor": "white"
           },
           "zaxis": {
            "backgroundcolor": "#E5ECF6",
            "gridcolor": "white",
            "gridwidth": 2,
            "linecolor": "white",
            "showbackground": true,
            "ticks": "",
            "zerolinecolor": "white"
           }
          },
          "shapedefaults": {
           "line": {
            "color": "#2a3f5f"
           }
          },
          "ternary": {
           "aaxis": {
            "gridcolor": "white",
            "linecolor": "white",
            "ticks": ""
           },
           "baxis": {
            "gridcolor": "white",
            "linecolor": "white",
            "ticks": ""
           },
           "bgcolor": "#E5ECF6",
           "caxis": {
            "gridcolor": "white",
            "linecolor": "white",
            "ticks": ""
           }
          },
          "title": {
           "x": 0.05
          },
          "xaxis": {
           "automargin": true,
           "gridcolor": "white",
           "linecolor": "white",
           "ticks": "",
           "title": {
            "standoff": 15
           },
           "zerolinecolor": "white",
           "zerolinewidth": 2
          },
          "yaxis": {
           "automargin": true,
           "gridcolor": "white",
           "linecolor": "white",
           "ticks": "",
           "title": {
            "standoff": 15
           },
           "zerolinecolor": "white",
           "zerolinewidth": 2
          }
         }
        },
        "title": {
         "text": "Emojis más usados"
        }
       }
      },
      "text/html": [
       "<div>                            <div id=\"a1f9765c-9dcf-4cec-9ff0-cb2da5505eb7\" class=\"plotly-graph-div\" style=\"height:525px; width:100%;\"></div>            <script type=\"text/javascript\">                require([\"plotly\"], function(Plotly) {                    window.PLOTLYENV=window.PLOTLYENV || {};                                    if (document.getElementById(\"a1f9765c-9dcf-4cec-9ff0-cb2da5505eb7\")) {                    Plotly.newPlot(                        \"a1f9765c-9dcf-4cec-9ff0-cb2da5505eb7\",                        [{\"type\": \"bar\", \"x\": [\"\\ud83c\\udf84\", \"\\ud83d\\ude0d\", \"\\u2728\", \"\\ud83e\\udd23\", \"\\ud83d\\ude2d\", \"\\u2764\\ufe0f\", \"\\ud83d\\ude02\", \"\\ud83e\\udd70\", \"\\ud83e\\udd7a\", \"\\ud83e\\udd29\", \"\\ud83c\\udf85\", \"\\ud83c\\udf81\", \"\\ud83d\\ude05\", \"\\ud83e\\udd2d\", \"\\ud83c\\udfb6\"], \"y\": [76, 50, 32, 29, 24, 23, 23, 23, 22, 13, 13, 13, 12, 12, 10]}],                        {\"template\": {\"data\": {\"bar\": [{\"error_x\": {\"color\": \"#2a3f5f\"}, \"error_y\": {\"color\": \"#2a3f5f\"}, \"marker\": {\"line\": {\"color\": \"#E5ECF6\", \"width\": 0.5}}, \"type\": \"bar\"}], \"barpolar\": [{\"marker\": {\"line\": {\"color\": \"#E5ECF6\", \"width\": 0.5}}, \"type\": \"barpolar\"}], \"carpet\": [{\"aaxis\": {\"endlinecolor\": \"#2a3f5f\", \"gridcolor\": \"white\", \"linecolor\": \"white\", \"minorgridcolor\": \"white\", \"startlinecolor\": \"#2a3f5f\"}, \"baxis\": {\"endlinecolor\": \"#2a3f5f\", \"gridcolor\": \"white\", \"linecolor\": \"white\", \"minorgridcolor\": \"white\", \"startlinecolor\": \"#2a3f5f\"}, \"type\": \"carpet\"}], \"choropleth\": [{\"colorbar\": {\"outlinewidth\": 0, \"ticks\": \"\"}, \"type\": \"choropleth\"}], \"contour\": [{\"colorbar\": {\"outlinewidth\": 0, \"ticks\": \"\"}, \"colorscale\": [[0.0, \"#0d0887\"], [0.1111111111111111, \"#46039f\"], [0.2222222222222222, \"#7201a8\"], [0.3333333333333333, \"#9c179e\"], [0.4444444444444444, \"#bd3786\"], [0.5555555555555556, \"#d8576b\"], [0.6666666666666666, \"#ed7953\"], [0.7777777777777778, \"#fb9f3a\"], [0.8888888888888888, \"#fdca26\"], [1.0, \"#f0f921\"]], \"type\": \"contour\"}], \"contourcarpet\": [{\"colorbar\": {\"outlinewidth\": 0, \"ticks\": \"\"}, \"type\": \"contourcarpet\"}], \"heatmap\": [{\"colorbar\": {\"outlinewidth\": 0, \"ticks\": \"\"}, \"colorscale\": [[0.0, \"#0d0887\"], [0.1111111111111111, \"#46039f\"], [0.2222222222222222, \"#7201a8\"], [0.3333333333333333, \"#9c179e\"], [0.4444444444444444, \"#bd3786\"], [0.5555555555555556, \"#d8576b\"], [0.6666666666666666, \"#ed7953\"], [0.7777777777777778, \"#fb9f3a\"], [0.8888888888888888, \"#fdca26\"], [1.0, \"#f0f921\"]], \"type\": \"heatmap\"}], \"heatmapgl\": [{\"colorbar\": {\"outlinewidth\": 0, \"ticks\": \"\"}, \"colorscale\": [[0.0, \"#0d0887\"], [0.1111111111111111, \"#46039f\"], [0.2222222222222222, \"#7201a8\"], [0.3333333333333333, \"#9c179e\"], [0.4444444444444444, \"#bd3786\"], [0.5555555555555556, \"#d8576b\"], [0.6666666666666666, \"#ed7953\"], [0.7777777777777778, \"#fb9f3a\"], [0.8888888888888888, \"#fdca26\"], [1.0, \"#f0f921\"]], \"type\": \"heatmapgl\"}], \"histogram\": [{\"marker\": {\"colorbar\": {\"outlinewidth\": 0, \"ticks\": \"\"}}, \"type\": \"histogram\"}], \"histogram2d\": [{\"colorbar\": {\"outlinewidth\": 0, \"ticks\": \"\"}, \"colorscale\": [[0.0, \"#0d0887\"], [0.1111111111111111, \"#46039f\"], [0.2222222222222222, \"#7201a8\"], [0.3333333333333333, \"#9c179e\"], [0.4444444444444444, \"#bd3786\"], [0.5555555555555556, \"#d8576b\"], [0.6666666666666666, \"#ed7953\"], [0.7777777777777778, \"#fb9f3a\"], [0.8888888888888888, \"#fdca26\"], [1.0, \"#f0f921\"]], \"type\": \"histogram2d\"}], \"histogram2dcontour\": [{\"colorbar\": {\"outlinewidth\": 0, \"ticks\": \"\"}, \"colorscale\": [[0.0, \"#0d0887\"], [0.1111111111111111, \"#46039f\"], [0.2222222222222222, \"#7201a8\"], [0.3333333333333333, \"#9c179e\"], [0.4444444444444444, \"#bd3786\"], [0.5555555555555556, \"#d8576b\"], [0.6666666666666666, \"#ed7953\"], [0.7777777777777778, \"#fb9f3a\"], [0.8888888888888888, \"#fdca26\"], [1.0, \"#f0f921\"]], \"type\": \"histogram2dcontour\"}], \"mesh3d\": [{\"colorbar\": {\"outlinewidth\": 0, \"ticks\": \"\"}, \"type\": \"mesh3d\"}], \"parcoords\": [{\"line\": {\"colorbar\": {\"outlinewidth\": 0, \"ticks\": \"\"}}, \"type\": \"parcoords\"}], \"pie\": [{\"automargin\": true, \"type\": \"pie\"}], \"scatter\": [{\"marker\": {\"colorbar\": {\"outlinewidth\": 0, \"ticks\": \"\"}}, \"type\": \"scatter\"}], \"scatter3d\": [{\"line\": {\"colorbar\": {\"outlinewidth\": 0, \"ticks\": \"\"}}, \"marker\": {\"colorbar\": {\"outlinewidth\": 0, \"ticks\": \"\"}}, \"type\": \"scatter3d\"}], \"scattercarpet\": [{\"marker\": {\"colorbar\": {\"outlinewidth\": 0, \"ticks\": \"\"}}, \"type\": \"scattercarpet\"}], \"scattergeo\": [{\"marker\": {\"colorbar\": {\"outlinewidth\": 0, \"ticks\": \"\"}}, \"type\": \"scattergeo\"}], \"scattergl\": [{\"marker\": {\"colorbar\": {\"outlinewidth\": 0, \"ticks\": \"\"}}, \"type\": \"scattergl\"}], \"scattermapbox\": [{\"marker\": {\"colorbar\": {\"outlinewidth\": 0, \"ticks\": \"\"}}, \"type\": \"scattermapbox\"}], \"scatterpolar\": [{\"marker\": {\"colorbar\": {\"outlinewidth\": 0, \"ticks\": \"\"}}, \"type\": \"scatterpolar\"}], \"scatterpolargl\": [{\"marker\": {\"colorbar\": {\"outlinewidth\": 0, \"ticks\": \"\"}}, \"type\": \"scatterpolargl\"}], \"scatterternary\": [{\"marker\": {\"colorbar\": {\"outlinewidth\": 0, \"ticks\": \"\"}}, \"type\": \"scatterternary\"}], \"surface\": [{\"colorbar\": {\"outlinewidth\": 0, \"ticks\": \"\"}, \"colorscale\": [[0.0, \"#0d0887\"], [0.1111111111111111, \"#46039f\"], [0.2222222222222222, \"#7201a8\"], [0.3333333333333333, \"#9c179e\"], [0.4444444444444444, \"#bd3786\"], [0.5555555555555556, \"#d8576b\"], [0.6666666666666666, \"#ed7953\"], [0.7777777777777778, \"#fb9f3a\"], [0.8888888888888888, \"#fdca26\"], [1.0, \"#f0f921\"]], \"type\": \"surface\"}], \"table\": [{\"cells\": {\"fill\": {\"color\": \"#EBF0F8\"}, \"line\": {\"color\": \"white\"}}, \"header\": {\"fill\": {\"color\": \"#C8D4E3\"}, \"line\": {\"color\": \"white\"}}, \"type\": \"table\"}]}, \"layout\": {\"annotationdefaults\": {\"arrowcolor\": \"#2a3f5f\", \"arrowhead\": 0, \"arrowwidth\": 1}, \"coloraxis\": {\"colorbar\": {\"outlinewidth\": 0, \"ticks\": \"\"}}, \"colorscale\": {\"diverging\": [[0, \"#8e0152\"], [0.1, \"#c51b7d\"], [0.2, \"#de77ae\"], [0.3, \"#f1b6da\"], [0.4, \"#fde0ef\"], [0.5, \"#f7f7f7\"], [0.6, \"#e6f5d0\"], [0.7, \"#b8e186\"], [0.8, \"#7fbc41\"], [0.9, \"#4d9221\"], [1, \"#276419\"]], \"sequential\": [[0.0, \"#0d0887\"], [0.1111111111111111, \"#46039f\"], [0.2222222222222222, \"#7201a8\"], [0.3333333333333333, \"#9c179e\"], [0.4444444444444444, \"#bd3786\"], [0.5555555555555556, \"#d8576b\"], [0.6666666666666666, \"#ed7953\"], [0.7777777777777778, \"#fb9f3a\"], [0.8888888888888888, \"#fdca26\"], [1.0, \"#f0f921\"]], \"sequentialminus\": [[0.0, \"#0d0887\"], [0.1111111111111111, \"#46039f\"], [0.2222222222222222, \"#7201a8\"], [0.3333333333333333, \"#9c179e\"], [0.4444444444444444, \"#bd3786\"], [0.5555555555555556, \"#d8576b\"], [0.6666666666666666, \"#ed7953\"], [0.7777777777777778, \"#fb9f3a\"], [0.8888888888888888, \"#fdca26\"], [1.0, \"#f0f921\"]]}, \"colorway\": [\"#636efa\", \"#EF553B\", \"#00cc96\", \"#ab63fa\", \"#FFA15A\", \"#19d3f3\", \"#FF6692\", \"#B6E880\", \"#FF97FF\", \"#FECB52\"], \"font\": {\"color\": \"#2a3f5f\"}, \"geo\": {\"bgcolor\": \"white\", \"lakecolor\": \"white\", \"landcolor\": \"#E5ECF6\", \"showlakes\": true, \"showland\": true, \"subunitcolor\": \"white\"}, \"hoverlabel\": {\"align\": \"left\"}, \"hovermode\": \"closest\", \"mapbox\": {\"style\": \"light\"}, \"paper_bgcolor\": \"white\", \"plot_bgcolor\": \"#E5ECF6\", \"polar\": {\"angularaxis\": {\"gridcolor\": \"white\", \"linecolor\": \"white\", \"ticks\": \"\"}, \"bgcolor\": \"#E5ECF6\", \"radialaxis\": {\"gridcolor\": \"white\", \"linecolor\": \"white\", \"ticks\": \"\"}}, \"scene\": {\"xaxis\": {\"backgroundcolor\": \"#E5ECF6\", \"gridcolor\": \"white\", \"gridwidth\": 2, \"linecolor\": \"white\", \"showbackground\": true, \"ticks\": \"\", \"zerolinecolor\": \"white\"}, \"yaxis\": {\"backgroundcolor\": \"#E5ECF6\", \"gridcolor\": \"white\", \"gridwidth\": 2, \"linecolor\": \"white\", \"showbackground\": true, \"ticks\": \"\", \"zerolinecolor\": \"white\"}, \"zaxis\": {\"backgroundcolor\": \"#E5ECF6\", \"gridcolor\": \"white\", \"gridwidth\": 2, \"linecolor\": \"white\", \"showbackground\": true, \"ticks\": \"\", \"zerolinecolor\": \"white\"}}, \"shapedefaults\": {\"line\": {\"color\": \"#2a3f5f\"}}, \"ternary\": {\"aaxis\": {\"gridcolor\": \"white\", \"linecolor\": \"white\", \"ticks\": \"\"}, \"baxis\": {\"gridcolor\": \"white\", \"linecolor\": \"white\", \"ticks\": \"\"}, \"bgcolor\": \"#E5ECF6\", \"caxis\": {\"gridcolor\": \"white\", \"linecolor\": \"white\", \"ticks\": \"\"}}, \"title\": {\"x\": 0.05}, \"xaxis\": {\"automargin\": true, \"gridcolor\": \"white\", \"linecolor\": \"white\", \"ticks\": \"\", \"title\": {\"standoff\": 15}, \"zerolinecolor\": \"white\", \"zerolinewidth\": 2}, \"yaxis\": {\"automargin\": true, \"gridcolor\": \"white\", \"linecolor\": \"white\", \"ticks\": \"\", \"title\": {\"standoff\": 15}, \"zerolinecolor\": \"white\", \"zerolinewidth\": 2}}}, \"title\": {\"text\": \"Emojis m\\u00e1s usados\"}},                        {\"responsive\": true}                    ).then(function(){\n",
       "                            \n",
       "var gd = document.getElementById('a1f9765c-9dcf-4cec-9ff0-cb2da5505eb7');\n",
       "var x = new MutationObserver(function (mutations, observer) {{\n",
       "        var display = window.getComputedStyle(gd).display;\n",
       "        if (!display || display === 'none') {{\n",
       "            console.log([gd, 'removed!']);\n",
       "            Plotly.purge(gd);\n",
       "            observer.disconnect();\n",
       "        }}\n",
       "}});\n",
       "\n",
       "// Listen for the removal of the full notebook cells\n",
       "var notebookContainer = gd.closest('#notebook-container');\n",
       "if (notebookContainer) {{\n",
       "    x.observe(notebookContainer, {childList: true});\n",
       "}}\n",
       "\n",
       "// Listen for the clearing of the current output cell\n",
       "var outputEl = gd.closest('.output');\n",
       "if (outputEl) {{\n",
       "    x.observe(outputEl, {childList: true});\n",
       "}}\n",
       "\n",
       "                        })                };                });            </script>        </div>"
      ]
     },
     "metadata": {},
     "output_type": "display_data"
    }
   ],
   "source": [
    "trace = go.Bar(x=temp_emojis.emoji.values[:15],\n",
    "               y=temp_emojis.cnt.values[:15])\n",
    "\n",
    "layout = go.Layout(title='Emojis más usados')\n",
    "\n",
    "fig = go.Figure(data=[trace], layout=layout)\n",
    "iplot(fig)"
   ]
  }
 ],
 "metadata": {
  "kernelspec": {
   "display_name": "Python 3",
   "language": "python",
   "name": "python3"
  },
  "language_info": {
   "codemirror_mode": {
    "name": "ipython",
    "version": 3
   },
   "file_extension": ".py",
   "mimetype": "text/x-python",
   "name": "python",
   "nbconvert_exporter": "python",
   "pygments_lexer": "ipython3",
   "version": "3.8.3"
  }
 },
 "nbformat": 4,
 "nbformat_minor": 2
}
